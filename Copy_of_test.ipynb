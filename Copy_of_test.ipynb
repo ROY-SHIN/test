{
  "nbformat": 4,
  "nbformat_minor": 0,
  "metadata": {
    "colab": {
      "name": "Copy of test.ipynb",
      "provenance": [],
      "toc_visible": true,
      "authorship_tag": "ABX9TyNqq9PLJ10QAnE6WLPDpMia",
      "include_colab_link": true
    },
    "kernelspec": {
      "name": "python3",
      "display_name": "Python 3"
    }
  },
  "cells": [
    {
      "cell_type": "markdown",
      "metadata": {
        "id": "view-in-github",
        "colab_type": "text"
      },
      "source": [
        "<a href=\"https://colab.research.google.com/github/ROY-SHIN/test/blob/master/Copy_of_test.ipynb\" target=\"_parent\"><img src=\"https://colab.research.google.com/assets/colab-badge.svg\" alt=\"Open In Colab\"/></a>"
      ]
    },
    {
      "cell_type": "code",
      "metadata": {
        "id": "a1joW8IeEvrl",
        "colab_type": "code",
        "outputId": "495afc38-49ca-497e-a440-2bf134382c5f",
        "colab": {
          "base_uri": "https://localhost:8080/",
          "height": 34
        }
      },
      "source": [
        "print(\"hello, world!\")"
      ],
      "execution_count": 0,
      "outputs": [
        {
          "output_type": "stream",
          "text": [
            "hello, world!\n"
          ],
          "name": "stdout"
        }
      ]
    },
    {
      "cell_type": "markdown",
      "metadata": {
        "id": "yO_QBNZWE0nj",
        "colab_type": "text"
      },
      "source": [
        "<h1>테스트\n",
        "\n",
        "\n",
        "1.   roy\n",
        "2.   List item\n",
        "\n",
        "\n"
      ]
    }
  ]
}